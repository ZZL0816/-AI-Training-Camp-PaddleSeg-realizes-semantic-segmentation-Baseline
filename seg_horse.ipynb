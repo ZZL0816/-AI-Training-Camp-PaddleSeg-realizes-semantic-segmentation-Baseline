{
 "cells": [
  {
   "cell_type": "markdown",
   "metadata": {
    "collapsed": false
   },
   "source": [
    "# [AI训练营]PaddleSeg实现语义分割Baseline\n",
    "\n",
    "手把手教你基于PaddleSeg实现语义分割任务\n",
    "\n",
    "------\n",
    "\n",
    "\n",
    "# 一、作业任务\n",
    "\n",
    "> 本次任务将基于PaddleSeg展开语义分割任务的学习与实践，baseline会提供PaddleSeg套件的基本使用，相关细节如有遗漏，可参考[10分钟上手PaddleSeg\n",
    "](https://aistudio.baidu.com/aistudio/projectdetail/1672610?channelType=0&channel=0)\n",
    "\n",
    "1. 选择提供的**五个数据集**中的一个数据集作为本次作业的训练数据，并**根据baseline跑通项目**\n",
    "\n",
    "2. **可视化1-3张**预测图片与预测结果（本次提供的数据集没有验证与测试集，可将训练数据直接进行预测，展示训练数据的预测结果即可）\n",
    "\n",
    "\n",
    "**加分项:**\n",
    "\n",
    "3. 尝试**划分验证集**，再进行训练\n",
    "\n",
    "4. 选择**其他网络**，调整训练参数进行更好的尝试\n",
    "\n",
    "\n",
    "**PS**:PaddleSeg相关参考项目:\n",
    "\n",
    "- [常规赛：PALM病理性近视病灶检测与分割基线方案](https://aistudio.baidu.com/aistudio/projectdetail/1941312)\n",
    "\n",
    "- [PaddleSeg 2.0动态图：车道线图像分割任务简介](https://aistudio.baidu.com/aistudio/projectdetail/1752986?channelType=0&channel=0)\n",
    "\n",
    "------\n",
    "\n",
    "------\n",
    "\n",
    "# 二、数据集说明\n",
    "\n",
    "------\n",
    "\n",
    "本项目使用的数据集是:[AI训练营]语义分割数据集合集，包含马分割，眼底血管分割，车道线分割，场景分割以及人像分割。\n",
    "\n",
    "该数据集已加载到本环境中，位于:\n",
    "\n",
    "**data/data103787/segDataset.zip**\n"
   ]
  },
  {
   "cell_type": "code",
   "execution_count": null,
   "metadata": {
    "collapsed": false
   },
   "outputs": [],
   "source": [
    "# unzip: 解压指令\r\n",
    "# -o: 表示解压后进行输出\r\n",
    "# -q: 表示静默模式，即不输出解压过程的日志\r\n",
    "# -d: 解压到指定目录下，如果该文件夹不存在，会自动创建\r\n",
    "!unzip -oq data/data103787/segDataset.zip -d segDataset"
   ]
  },
  {
   "cell_type": "markdown",
   "metadata": {
    "collapsed": false
   },
   "source": [
    "解压完成后，会在左侧文件目录多出一个**segDataset**的文件夹，该文件夹下有**5**个子文件夹：\n",
    "\n",
    "- **horse -- 马分割数据**<二分类任务>\n",
    "\n",
    "![](https://ai-studio-static-online.cdn.bcebos.com/2b12a7fab9ee409587a2aec332a70ba2bce0fcc4a10345a4aa38941db65e8d02)\n"
   ]
  },
  {
   "cell_type": "code",
   "execution_count": null,
   "metadata": {
    "collapsed": false
   },
   "outputs": [
    {
     "name": "stdout",
     "output_type": "stream",
     "text": [
      "segDataset\r\n",
      "├── cocome\r\n",
      "│   ├── Annotations\r\n",
      "│   └── Images\r\n",
      "├── facade\r\n",
      "│   ├── Annotations\r\n",
      "│   └── Images\r\n",
      "├── FundusVessels\r\n",
      "│   ├── Annotations\r\n",
      "│   └── Images\r\n",
      "├── horse\r\n",
      "│   ├── Annotations\r\n",
      "│   └── Images\r\n",
      "└── laneline\r\n",
      "    ├── Annotations\r\n",
      "    └── Images\r\n",
      "\r\n",
      "15 directories, 0 files\r\n"
     ]
    }
   ],
   "source": [
    "# tree: 查看文件夹树状结构\r\n",
    "# -L: 表示遍历深度\r\n",
    "!tree segDataset -L 2"
   ]
  },
  {
   "cell_type": "markdown",
   "metadata": {
    "collapsed": false
   },
   "source": [
    "> 查看数据label的像素分布，可从中得知分割任务的类别数： 脚本位于: **show_segDataset_label_cls_id.py**\n",
    "\n",
    "> 关于人像分割数据分析，这里不做提示，可参考[PaddleSeg实战——人像分割](https://aistudio.baidu.com/aistudio/projectdetail/2177440?channelType=0&channel=0)"
   ]
  },
  {
   "cell_type": "code",
   "execution_count": null,
   "metadata": {
    "collapsed": false
   },
   "outputs": [
    {
     "name": "stdout",
     "output_type": "stream",
     "text": [
      "100%|████████████████████████████████████████| 328/328 [00:00<00:00, 956.73it/s]\n",
      "horse-cls_id:  [0, 1, 2, 3, 4, 5, 6, 7, 8, 9, 10, 11, 12, 13, 14, 15, 16, 17, 18, 19, 20, 21, 22, 23, 24, 25, 26, 27, 28, 29, 30, 31, 32, 33, 34, 35, 36, 37, 38, 39, 40, 41, 42, 43, 44, 45, 211, 212, 213, 214, 216, 217, 218, 219, 220, 221, 222, 223, 224, 225, 226, 227, 228, 229, 230, 231, 232, 233, 234, 235, 236, 237, 238, 239, 240, 241, 242, 243, 244, 245, 246, 247, 248, 249, 250, 251, 252, 253, 254, 255]\n",
      "horse为90分类\n",
      "horse实际应转换为2分类(将非0像素转换为像素值为1)\n",
      "\n",
      "\n",
      "100%|████████████████████████████████████████| 845/845 [00:04<00:00, 190.33it/s]\n",
      "facade-cls_id:  [0, 1, 2, 3, 4, 5, 6, 7, 8]\n",
      "facade为9分类\n",
      "\n",
      "\n",
      "100%|████████████████████████████████████████| 200/200 [00:01<00:00, 179.01it/s]\n",
      "fundusvessels-cls_id:  [0, 1]\n",
      "fundusvessels为2分类\n",
      "\n",
      "\n",
      "100%|███████████████████████████████████████| 4878/4878 [01:33<00:00, 52.37it/s]\n",
      "laneline-cls_id:  [0, 1, 2, 3, 4, 5, 6, 7, 8, 9, 10, 11, 12, 13, 14, 15, 16, 17, 18, 19]\n",
      "laneline为20分类\n"
     ]
    }
   ],
   "source": [
    "# 查看label中像素分类情况\r\n",
    "!python show_segDataset_label_cls_id.py"
   ]
  },
  {
   "cell_type": "markdown",
   "metadata": {
    "collapsed": false
   },
   "source": [
    "# 三、数据预处理\n",
    "\n",
    "> 这里就以horse数据作为示例\n",
    "\n",
    "-----\n",
    "\n",
    "- 首先，通过上边的像素值分析以及horse本身的标签表现，我们确定horse数据集为二分类任务\n",
    "\n",
    "- 然而，实际label中，却包含多个像素值，因此需要将horse中的所有label进行一个预处理\n",
    "\n",
    "- 预处理内容为: 0值不变，非0值变为1，然后再保存label\n",
    "\n",
    "- **并且保存文件格式为png，单通道图片为Label图片，最好保存为png——否则可能出现异常像素**\n",
    "\n",
    "**对应horse的预处理脚本，位于:**\n",
    "\n",
    "parse_horse_label.py"
   ]
  },
  {
   "cell_type": "code",
   "execution_count": null,
   "metadata": {
    "collapsed": false
   },
   "outputs": [
    {
     "name": "stdout",
     "output_type": "stream",
     "text": [
      "100%|████████████████████████████████████████| 328/328 [00:00<00:00, 390.62it/s]\n",
      "[0, 1]\n",
      "100%|███████████████████████████████████████| 328/328 [00:00<00:00, 1110.42it/s]\n",
      "horse-cls_id:  [0, 1]\n",
      "horse为2分类\n"
     ]
    }
   ],
   "source": [
    "!python parse_horse_label.py"
   ]
  },
  {
   "cell_type": "markdown",
   "metadata": {
    "collapsed": false
   },
   "source": [
    "- 预处理完成后，配置训练的索引文件txt，方便后边套件读取数据\n",
    "\n",
    "> txt创建脚本位于: **horse_create_train_list.py**\n",
    "\n",
    "> 同时，生成的txt位于: **segDataset/horse/train_list.txt**"
   ]
  },
  {
   "cell_type": "code",
   "execution_count": null,
   "metadata": {
    "collapsed": false
   },
   "outputs": [
    {
     "name": "stdout",
     "output_type": "stream",
     "text": [
      "100%|██████████████████████████████████████| 328/328 [00:00<00:00, 16339.24it/s]\r\n"
     ]
    }
   ],
   "source": [
    "# 创建训练的数据索引txt\r\n",
    "# 格式如下\r\n",
    "# line1: train_img1.jpg train_label1.png\r\n",
    "# line2: train_img2.jpg train_label2.png\r\n",
    "!python horse_create_train_list.py"
   ]
  },
  {
   "cell_type": "markdown",
   "metadata": {
    "collapsed": false
   },
   "source": [
    "# 四、使用套件开始训练\n",
    "\n",
    "- 1.解压套件: 已挂载到本项目, 位于:**data/data102250/PaddleSeg-release-2.1.zip**"
   ]
  },
  {
   "cell_type": "code",
   "execution_count": null,
   "metadata": {
    "collapsed": false
   },
   "outputs": [],
   "source": [
    "# 解压套件\r\n",
    "!unzip -oq data/data102250/PaddleSeg-release-2.1.zip\r\n",
    "# 通过mv指令实现文件夹重命名\r\n",
    "!mv PaddleSeg-release-2.1 PaddleSeg"
   ]
  },
  {
   "cell_type": "markdown",
   "metadata": {
    "collapsed": false
   },
   "source": [
    "- 2.选择模型，baseline选择**bisenet**, 位于: **PaddleSeg/configs/quick_start/bisenet_optic_disc_512x512_1k.yml**"
   ]
  },
  {
   "cell_type": "markdown",
   "metadata": {
    "collapsed": false
   },
   "source": [
    "- 3.配置模型文件\n",
    "\n",
    "> 首先修改训练数据集加载的dataset类型:\n",
    "\n",
    "![](https://ai-studio-static-online.cdn.bcebos.com/2f5363d71034490290f720ea8bb0d6873d7df2712d4b4e84ae41b0378aed8b89)\n",
    "\n",
    "> 然后配置训练数据集如下:\n",
    "\n",
    "![](https://ai-studio-static-online.cdn.bcebos.com/29547856db4b4bfc80aa3732e143f2788589f9316c694f369c9bd1da44b815dc)\n",
    "\n",
    "> 类似的，配置验证数据集: -- **注意修改train_path为val_path**\n",
    "\n",
    "![](https://ai-studio-static-online.cdn.bcebos.com/09713aaaed6b4611a525d25aae67e4f0538224f7ac0241eb941d97892bf6c4c1)\n",
    "\n",
    "<font color=\"red\" size=4>其它模型可能需要到: PaddleSeg/configs/$_base_$  中的数据集文件进行配置，但修改参数与bisenet中的数据集修改参数相同 </font>\n",
    "\n",
    "![](https://ai-studio-static-online.cdn.bcebos.com/b154dcbf15e14f43aa13455c0ceeaaebe0489c9a09dd439f9d32e8b0a31355ec)\n"
   ]
  },
  {
   "cell_type": "markdown",
   "metadata": {
    "collapsed": false
   },
   "source": [
    "- 4.开始训练\n",
    "\n",
    "使用PaddleSeg的train.py，传入模型文件即可开启训练"
   ]
  },
  {
   "cell_type": "code",
   "execution_count": null,
   "metadata": {
    "collapsed": false
   },
   "outputs": [
    {
     "name": "stdout",
     "output_type": "stream",
     "text": [
      "/opt/conda/envs/python35-paddle120-env/lib/python3.7/site-packages/setuptools/depends.py:2: DeprecationWarning: the imp module is deprecated in favour of importlib; see the module's documentation for alternative uses\n",
      "  import imp\n",
      "2021-08-15 11:07:23 [INFO]\t\n",
      "------------Environment Information-------------\n",
      "platform: Linux-4.4.0-166-generic-x86_64-with-debian-stretch-sid\n",
      "Python: 3.7.4 (default, Aug 13 2019, 20:35:49) [GCC 7.3.0]\n",
      "Paddle compiled with cuda: False\n",
      "GCC: gcc (Ubuntu 7.5.0-3ubuntu1~16.04) 7.5.0\n",
      "PaddlePaddle: 2.0.2\n",
      "OpenCV: 4.1.1\n",
      "------------------------------------------------\n",
      "2021-08-15 11:07:23 [INFO]\t\n",
      "---------------Config Information---------------\n",
      "batch_size: 4\n",
      "iters: 2000\n",
      "loss:\n",
      "  coef:\n",
      "  - 1\n",
      "  - 1\n",
      "  - 1\n",
      "  - 1\n",
      "  - 1\n",
      "  types:\n",
      "  - ignore_index: 255\n",
      "    type: CrossEntropyLoss\n",
      "lr_scheduler:\n",
      "  end_lr: 0\n",
      "  learning_rate: 0.01\n",
      "  power: 0.9\n",
      "  type: PolynomialDecay\n",
      "model:\n",
      "  pretrained: null\n",
      "  type: BiSeNetV2\n",
      "optimizer:\n",
      "  momentum: 0.9\n",
      "  type: sgd\n",
      "  weight_decay: 4.0e-05\n",
      "train_dataset:\n",
      "  dataset_root: segDataset/horse\n",
      "  mode: train\n",
      "  num_classes: 2\n",
      "  train_path: segDataset/horse/train_list.txt\n",
      "  transforms:\n",
      "  - target_size:\n",
      "    - 512\n",
      "    - 512\n",
      "    type: Resize\n",
      "  - type: RandomHorizontalFlip\n",
      "  - type: Normalize\n",
      "  type: Dataset\n",
      "val_dataset:\n",
      "  dataset_root: segDataset/horse\n",
      "  mode: val\n",
      "  num_classes: 2\n",
      "  transforms:\n",
      "  - target_size:\n",
      "    - 512\n",
      "    - 512\n",
      "    type: Resize\n",
      "  - type: Normalize\n",
      "  type: Dataset\n",
      "  val_path: segDataset/horse/train_list.txt\n",
      "------------------------------------------------\n",
      "/opt/conda/envs/python35-paddle120-env/lib/python3.7/site-packages/paddle/nn/layer/norm.py:648: UserWarning: When training, we now always track global mean and variance.\n",
      "  \"When training, we now always track global mean and variance.\")\n",
      "2021-08-15 11:09:46 [INFO]\t[TRAIN] epoch: 1, iter: 20/2000, loss: 3.1530, lr: 0.009914, batch_cost: 7.1455, reader_cost: 0.00675, ips: 0.5598 samples/sec | ETA 03:55:48\n",
      "2021-08-15 11:12:06 [INFO]\t[TRAIN] epoch: 1, iter: 40/2000, loss: 2.3686, lr: 0.009824, batch_cost: 6.9723, reader_cost: 0.00008, ips: 0.5737 samples/sec | ETA 03:47:45\n",
      "2021-08-15 11:14:26 [INFO]\t[TRAIN] epoch: 1, iter: 60/2000, loss: 2.2863, lr: 0.009734, batch_cost: 7.0154, reader_cost: 0.00008, ips: 0.5702 samples/sec | ETA 03:46:49\n",
      "2021-08-15 11:16:45 [INFO]\t[TRAIN] epoch: 1, iter: 80/2000, loss: 2.0852, lr: 0.009644, batch_cost: 6.9257, reader_cost: 0.00008, ips: 0.5776 samples/sec | ETA 03:41:37\n",
      "2021-08-15 11:19:04 [INFO]\t[TRAIN] epoch: 2, iter: 100/2000, loss: 2.1169, lr: 0.009553, batch_cost: 6.9862, reader_cost: 0.00486, ips: 0.5726 samples/sec | ETA 03:41:13\n",
      "2021-08-15 11:21:23 [INFO]\t[TRAIN] epoch: 2, iter: 120/2000, loss: 1.9570, lr: 0.009463, batch_cost: 6.9301, reader_cost: 0.00009, ips: 0.5772 samples/sec | ETA 03:37:08\n",
      "2021-08-15 11:23:43 [INFO]\t[TRAIN] epoch: 2, iter: 140/2000, loss: 2.0991, lr: 0.009372, batch_cost: 6.9891, reader_cost: 0.00009, ips: 0.5723 samples/sec | ETA 03:36:39\n",
      "2021-08-15 11:26:04 [INFO]\t[TRAIN] epoch: 2, iter: 160/2000, loss: 1.8826, lr: 0.009282, batch_cost: 7.0882, reader_cost: 0.00009, ips: 0.5643 samples/sec | ETA 03:37:22\n",
      "2021-08-15 11:28:26 [INFO]\t[TRAIN] epoch: 3, iter: 180/2000, loss: 1.9219, lr: 0.009191, batch_cost: 7.0982, reader_cost: 0.00464, ips: 0.5635 samples/sec | ETA 03:35:18\n",
      "2021-08-15 11:30:47 [INFO]\t[TRAIN] epoch: 3, iter: 200/2000, loss: 1.8850, lr: 0.009100, batch_cost: 7.0272, reader_cost: 0.00008, ips: 0.5692 samples/sec | ETA 03:30:48\n",
      "2021-08-15 11:30:47 [INFO]\tStart evaluating (total_samples: 328, total_iters: 328)...\n",
      "/opt/conda/envs/python35-paddle120-env/lib/python3.7/site-packages/paddle/fluid/dygraph/math_op_patch.py:238: UserWarning: The dtype of left and right variables are not the same, left dtype is VarType.INT32, but right dtype is VarType.BOOL, the right dtype will convert to VarType.INT32\n",
      "  format(lhs_dtype, rhs_dtype, lhs_dtype))\n",
      "/opt/conda/envs/python35-paddle120-env/lib/python3.7/site-packages/paddle/fluid/dygraph/math_op_patch.py:238: UserWarning: The dtype of left and right variables are not the same, left dtype is VarType.INT64, but right dtype is VarType.BOOL, the right dtype will convert to VarType.INT64\n",
      "  format(lhs_dtype, rhs_dtype, lhs_dtype))\n",
      "328/328 [==============================] - 188s 574ms/step - batch_cost: 0.5738 - reader cost: 1.6462e-\n",
      "2021-08-15 11:33:55 [INFO]\t[EVAL] #Images: 328 mIoU: 0.7431 Acc: 0.8873 Kappa: 0.6951 \n",
      "2021-08-15 11:33:55 [INFO]\t[EVAL] Class IoU: \n",
      "[0.8612 0.6249]\n",
      "2021-08-15 11:33:55 [INFO]\t[EVAL] Class Acc: \n",
      "[0.9053 0.8262]\n",
      "2021-08-15 11:33:56 [INFO]\t[EVAL] The model with the best validation mIoU (0.7431) was saved at iter 200.\n",
      "2021-08-15 11:36:17 [INFO]\t[TRAIN] epoch: 3, iter: 220/2000, loss: 1.7166, lr: 0.009009, batch_cost: 7.0842, reader_cost: 0.00009, ips: 0.5646 samples/sec | ETA 03:30:09\n",
      "2021-08-15 11:38:36 [INFO]\t[TRAIN] epoch: 3, iter: 240/2000, loss: 2.0203, lr: 0.008918, batch_cost: 6.9292, reader_cost: 0.00008, ips: 0.5773 samples/sec | ETA 03:23:15\n",
      "2021-08-15 11:40:56 [INFO]\t[TRAIN] epoch: 4, iter: 260/2000, loss: 1.7949, lr: 0.008827, batch_cost: 6.9967, reader_cost: 0.00473, ips: 0.5717 samples/sec | ETA 03:22:54\n",
      "2021-08-15 11:43:17 [INFO]\t[TRAIN] epoch: 4, iter: 280/2000, loss: 1.7322, lr: 0.008735, batch_cost: 7.0516, reader_cost: 0.00009, ips: 0.5672 samples/sec | ETA 03:22:08\n",
      "2021-08-15 11:45:37 [INFO]\t[TRAIN] epoch: 4, iter: 300/2000, loss: 1.8456, lr: 0.008644, batch_cost: 7.0224, reader_cost: 0.00009, ips: 0.5696 samples/sec | ETA 03:18:58\n",
      "2021-08-15 11:47:59 [INFO]\t[TRAIN] epoch: 4, iter: 320/2000, loss: 1.7211, lr: 0.008552, batch_cost: 7.0880, reader_cost: 0.00008, ips: 0.5643 samples/sec | ETA 03:18:27\n",
      "2021-08-15 11:50:20 [INFO]\t[TRAIN] epoch: 5, iter: 340/2000, loss: 1.7687, lr: 0.008461, batch_cost: 7.0244, reader_cost: 0.00428, ips: 0.5694 samples/sec | ETA 03:14:20\n",
      "2021-08-15 11:52:39 [INFO]\t[TRAIN] epoch: 5, iter: 360/2000, loss: 1.6194, lr: 0.008369, batch_cost: 6.9898, reader_cost: 0.00008, ips: 0.5723 samples/sec | ETA 03:11:03\n",
      "2021-08-15 11:54:59 [INFO]\t[TRAIN] epoch: 5, iter: 380/2000, loss: 1.7092, lr: 0.008277, batch_cost: 7.0031, reader_cost: 0.00009, ips: 0.5712 samples/sec | ETA 03:09:05\n",
      "2021-08-15 11:57:18 [INFO]\t[TRAIN] epoch: 5, iter: 400/2000, loss: 1.6652, lr: 0.008185, batch_cost: 6.9292, reader_cost: 0.00008, ips: 0.5773 samples/sec | ETA 03:04:46\n",
      "2021-08-15 11:57:18 [INFO]\tStart evaluating (total_samples: 328, total_iters: 328)...\n",
      "328/328 [==============================] - 195s 594ms/step - batch_cost: 0.5934 - reader cost: 1.4007e-0\n",
      "2021-08-15 12:00:33 [INFO]\t[EVAL] #Images: 328 mIoU: 0.7995 Acc: 0.9123 Kappa: 0.7718 \n",
      "2021-08-15 12:00:33 [INFO]\t[EVAL] Class IoU: \n",
      "[0.8882 0.7108]\n",
      "2021-08-15 12:00:33 [INFO]\t[EVAL] Class Acc: \n",
      "[0.9388 0.8362]\n",
      "2021-08-15 12:00:33 [INFO]\t[EVAL] The model with the best validation mIoU (0.7995) was saved at iter 400.\n",
      "2021-08-15 12:02:53 [INFO]\t[TRAIN] epoch: 6, iter: 420/2000, loss: 1.6192, lr: 0.008093, batch_cost: 6.9853, reader_cost: 0.00582, ips: 0.5726 samples/sec | ETA 03:03:56\n",
      "2021-08-15 12:05:16 [INFO]\t[TRAIN] epoch: 6, iter: 440/2000, loss: 1.5084, lr: 0.008001, batch_cost: 7.1318, reader_cost: 0.00009, ips: 0.5609 samples/sec | ETA 03:05:25\n",
      "2021-08-15 12:07:39 [INFO]\t[TRAIN] epoch: 6, iter: 460/2000, loss: 1.8236, lr: 0.007909, batch_cost: 7.1950, reader_cost: 0.00009, ips: 0.5559 samples/sec | ETA 03:04:40\n",
      "2021-08-15 12:10:03 [INFO]\t[TRAIN] epoch: 6, iter: 480/2000, loss: 1.6114, lr: 0.007816, batch_cost: 7.2020, reader_cost: 0.00009, ips: 0.5554 samples/sec | ETA 03:02:26\n",
      "2021-08-15 12:12:27 [INFO]\t[TRAIN] epoch: 7, iter: 500/2000, loss: 1.6934, lr: 0.007724, batch_cost: 7.1984, reader_cost: 0.00459, ips: 0.5557 samples/sec | ETA 02:59:57\n",
      "2021-08-15 12:14:50 [INFO]\t[TRAIN] epoch: 7, iter: 520/2000, loss: 1.5913, lr: 0.007631, batch_cost: 7.1135, reader_cost: 0.00009, ips: 0.5623 samples/sec | ETA 02:55:27\n",
      "2021-08-15 12:17:09 [INFO]\t[TRAIN] epoch: 7, iter: 540/2000, loss: 1.5398, lr: 0.007538, batch_cost: 6.9804, reader_cost: 0.00008, ips: 0.5730 samples/sec | ETA 02:49:51\n",
      "2021-08-15 12:19:27 [INFO]\t[TRAIN] epoch: 7, iter: 560/2000, loss: 1.5910, lr: 0.007445, batch_cost: 6.8695, reader_cost: 0.00008, ips: 0.5823 samples/sec | ETA 02:44:52\n",
      "2021-08-15 12:21:47 [INFO]\t[TRAIN] epoch: 8, iter: 580/2000, loss: 1.5085, lr: 0.007352, batch_cost: 6.9901, reader_cost: 0.00429, ips: 0.5722 samples/sec | ETA 02:45:25\n",
      "2021-08-15 12:24:06 [INFO]\t[TRAIN] epoch: 8, iter: 600/2000, loss: 1.4745, lr: 0.007259, batch_cost: 6.9734, reader_cost: 0.00009, ips: 0.5736 samples/sec | ETA 02:42:42\n",
      "2021-08-15 12:24:06 [INFO]\tStart evaluating (total_samples: 328, total_iters: 328)...\n",
      "328/328 [==============================] - 191s 584ms/step - batch_cost: 0.5835 - reader cost: 1.3985e-0\n",
      "2021-08-15 12:27:18 [INFO]\t[EVAL] #Images: 328 mIoU: 0.8220 Acc: 0.9232 Kappa: 0.8005 \n",
      "2021-08-15 12:27:18 [INFO]\t[EVAL] Class IoU: \n",
      "[0.9013 0.7428]\n",
      "2021-08-15 12:27:18 [INFO]\t[EVAL] Class Acc: \n",
      "[0.947  0.8553]\n",
      "2021-08-15 12:27:18 [INFO]\t[EVAL] The model with the best validation mIoU (0.8220) was saved at iter 600.\n",
      "2021-08-15 12:29:39 [INFO]\t[TRAIN] epoch: 8, iter: 620/2000, loss: 1.5085, lr: 0.007166, batch_cost: 7.0481, reader_cost: 0.00009, ips: 0.5675 samples/sec | ETA 02:42:06\n",
      "2021-08-15 12:31:59 [INFO]\t[TRAIN] epoch: 8, iter: 640/2000, loss: 1.5587, lr: 0.007072, batch_cost: 7.0072, reader_cost: 0.00009, ips: 0.5708 samples/sec | ETA 02:38:49\n",
      "2021-08-15 12:34:19 [INFO]\t[TRAIN] epoch: 9, iter: 660/2000, loss: 1.4928, lr: 0.006978, batch_cost: 6.9919, reader_cost: 0.00472, ips: 0.5721 samples/sec | ETA 02:36:09\n",
      "2021-08-15 12:36:38 [INFO]\t[TRAIN] epoch: 9, iter: 680/2000, loss: 1.5328, lr: 0.006885, batch_cost: 6.9458, reader_cost: 0.00008, ips: 0.5759 samples/sec | ETA 02:32:48\n",
      "2021-08-15 12:38:58 [INFO]\t[TRAIN] epoch: 9, iter: 700/2000, loss: 1.4080, lr: 0.006791, batch_cost: 6.9997, reader_cost: 0.00008, ips: 0.5715 samples/sec | ETA 02:31:39\n",
      "2021-08-15 12:41:17 [INFO]\t[TRAIN] epoch: 9, iter: 720/2000, loss: 1.5997, lr: 0.006697, batch_cost: 6.9750, reader_cost: 0.00008, ips: 0.5735 samples/sec | ETA 02:28:48\n",
      "2021-08-15 12:43:37 [INFO]\t[TRAIN] epoch: 10, iter: 740/2000, loss: 1.4921, lr: 0.006603, batch_cost: 6.9779, reader_cost: 0.00457, ips: 0.5732 samples/sec | ETA 02:26:32\n",
      "2021-08-15 12:45:57 [INFO]\t[TRAIN] epoch: 10, iter: 760/2000, loss: 1.4681, lr: 0.006508, batch_cost: 6.9987, reader_cost: 0.00009, ips: 0.5715 samples/sec | ETA 02:24:38\n",
      "2021-08-15 12:48:17 [INFO]\t[TRAIN] epoch: 10, iter: 780/2000, loss: 1.3989, lr: 0.006414, batch_cost: 7.0019, reader_cost: 0.00008, ips: 0.5713 samples/sec | ETA 02:22:22\n",
      "2021-08-15 12:50:38 [INFO]\t[TRAIN] epoch: 10, iter: 800/2000, loss: 1.4117, lr: 0.006319, batch_cost: 7.0634, reader_cost: 0.00010, ips: 0.5663 samples/sec | ETA 02:21:16\n",
      "2021-08-15 12:50:38 [INFO]\tStart evaluating (total_samples: 328, total_iters: 328)...\n",
      "328/328 [==============================] - 189s 577ms/step - batch_cost: 0.5770 - reader cost: 1.3863e-\n",
      "2021-08-15 12:53:47 [INFO]\t[EVAL] #Images: 328 mIoU: 0.8375 Acc: 0.9313 Kappa: 0.8196 \n",
      "2021-08-15 12:53:47 [INFO]\t[EVAL] Class IoU: \n",
      "[0.9118 0.7632]\n",
      "2021-08-15 12:53:47 [INFO]\t[EVAL] Class Acc: \n",
      "[0.9473 0.8835]\n",
      "2021-08-15 12:53:48 [INFO]\t[EVAL] The model with the best validation mIoU (0.8375) was saved at iter 800.\n",
      "2021-08-15 12:56:09 [INFO]\t[TRAIN] epoch: 10, iter: 820/2000, loss: 1.5617, lr: 0.006224, batch_cost: 7.0681, reader_cost: 0.00009, ips: 0.5659 samples/sec | ETA 02:19:00\n",
      "2021-08-15 12:58:30 [INFO]\t[TRAIN] epoch: 11, iter: 840/2000, loss: 1.4915, lr: 0.006129, batch_cost: 7.0517, reader_cost: 0.00482, ips: 0.5672 samples/sec | ETA 02:16:20\n",
      "2021-08-15 13:00:52 [INFO]\t[TRAIN] epoch: 11, iter: 860/2000, loss: 1.4664, lr: 0.006034, batch_cost: 7.0822, reader_cost: 0.00009, ips: 0.5648 samples/sec | ETA 02:14:33\n",
      "2021-08-15 13:03:11 [INFO]\t[TRAIN] epoch: 11, iter: 880/2000, loss: 1.4449, lr: 0.005939, batch_cost: 6.9574, reader_cost: 0.00008, ips: 0.5749 samples/sec | ETA 02:09:52\n",
      "2021-08-15 13:05:32 [INFO]\t[TRAIN] epoch: 11, iter: 900/2000, loss: 1.3548, lr: 0.005844, batch_cost: 7.0437, reader_cost: 0.00009, ips: 0.5679 samples/sec | ETA 02:09:08\n",
      "2021-08-15 13:07:54 [INFO]\t[TRAIN] epoch: 12, iter: 920/2000, loss: 1.4372, lr: 0.005748, batch_cost: 7.0861, reader_cost: 0.00479, ips: 0.5645 samples/sec | ETA 02:07:33\n",
      "2021-08-15 13:10:15 [INFO]\t[TRAIN] epoch: 12, iter: 940/2000, loss: 1.4344, lr: 0.005652, batch_cost: 7.0869, reader_cost: 0.00009, ips: 0.5644 samples/sec | ETA 02:05:12\n",
      "2021-08-15 13:12:35 [INFO]\t[TRAIN] epoch: 12, iter: 960/2000, loss: 1.4410, lr: 0.005556, batch_cost: 6.9910, reader_cost: 0.00008, ips: 0.5722 samples/sec | ETA 02:01:10\n",
      "2021-08-15 13:14:53 [INFO]\t[TRAIN] epoch: 12, iter: 980/2000, loss: 1.4023, lr: 0.005460, batch_cost: 6.8942, reader_cost: 0.00008, ips: 0.5802 samples/sec | ETA 01:57:12\n",
      "328/328 [==============================] - 192s 585ms/step - batch_cost: 0.5849 - reader cost: 1.4179e-0\n",
      "2021-08-15 13:20:26 [INFO]\t[EVAL] #Images: 328 mIoU: 0.8433 Acc: 0.9341 Kappa: 0.8267 \n",
      "2021-08-15 13:20:26 [INFO]\t[EVAL] Class IoU: \n",
      "[0.9153 0.7713]\n",
      "2021-08-15 13:20:26 [INFO]\t[EVAL] Class Acc: \n",
      "[0.9484 0.8911]\n",
      "2021-08-15 13:20:26 [INFO]\t[EVAL] The model with the best validation mIoU (0.8433) was saved at iter 1000.\n",
      "2021-08-15 13:22:46 [INFO]\t[TRAIN] epoch: 13, iter: 1020/2000, loss: 1.4932, lr: 0.005267, batch_cost: 7.0017, reader_cost: 0.00009, ips: 0.5713 samples/sec | ETA 01:54:21\n",
      "2021-08-15 13:25:09 [INFO]\t[TRAIN] epoch: 13, iter: 1040/2000, loss: 1.3541, lr: 0.005170, batch_cost: 7.1444, reader_cost: 0.00009, ips: 0.5599 samples/sec | ETA 01:54:18\n",
      "2021-08-15 13:27:29 [INFO]\t[TRAIN] epoch: 13, iter: 1060/2000, loss: 1.3568, lr: 0.005073, batch_cost: 6.9795, reader_cost: 0.00009, ips: 0.5731 samples/sec | ETA 01:49:20\n",
      "2021-08-15 13:29:50 [INFO]\t[TRAIN] epoch: 14, iter: 1080/2000, loss: 1.3300, lr: 0.004976, batch_cost: 7.0911, reader_cost: 0.00456, ips: 0.5641 samples/sec | ETA 01:48:43\n",
      "2021-08-15 13:32:09 [INFO]\t[TRAIN] epoch: 14, iter: 1100/2000, loss: 1.3820, lr: 0.004879, batch_cost: 6.9476, reader_cost: 0.00008, ips: 0.5757 samples/sec | ETA 01:44:12\n",
      "2021-08-15 13:34:30 [INFO]\t[TRAIN] epoch: 14, iter: 1120/2000, loss: 1.4395, lr: 0.004781, batch_cost: 7.0527, reader_cost: 0.00009, ips: 0.5672 samples/sec | ETA 01:43:26\n",
      "2021-08-15 13:36:52 [INFO]\t[TRAIN] epoch: 14, iter: 1140/2000, loss: 1.4482, lr: 0.004684, batch_cost: 7.0729, reader_cost: 0.00009, ips: 0.5655 samples/sec | ETA 01:41:22\n",
      "2021-08-15 13:39:16 [INFO]\t[TRAIN] epoch: 15, iter: 1160/2000, loss: 1.3212, lr: 0.004586, batch_cost: 7.1878, reader_cost: 0.00507, ips: 0.5565 samples/sec | ETA 01:40:37\n",
      "2021-08-15 13:41:37 [INFO]\t[TRAIN] epoch: 15, iter: 1180/2000, loss: 1.4086, lr: 0.004487, batch_cost: 7.0446, reader_cost: 0.00009, ips: 0.5678 samples/sec | ETA 01:36:16\n",
      "2021-08-15 13:43:58 [INFO]\t[TRAIN] epoch: 15, iter: 1200/2000, loss: 1.3094, lr: 0.004389, batch_cost: 7.0670, reader_cost: 0.00008, ips: 0.5660 samples/sec | ETA 01:34:13\n",
      "2021-08-15 13:43:58 [INFO]\tStart evaluating (total_samples: 328, total_iters: 328)...\n",
      "328/328 [==============================] - 193s 589ms/step - batch_cost: 0.5886 - reader cost: 1.4069e-0\n",
      "2021-08-15 13:47:11 [INFO]\t[EVAL] #Images: 328 mIoU: 0.8513 Acc: 0.9372 Kappa: 0.8364 \n",
      "2021-08-15 13:47:11 [INFO]\t[EVAL] Class IoU: \n",
      "[0.9187 0.7838]\n",
      "2021-08-15 13:47:11 [INFO]\t[EVAL] Class Acc: \n",
      "[0.9552 0.8853]\n",
      "2021-08-15 13:47:11 [INFO]\t[EVAL] The model with the best validation mIoU (0.8513) was saved at iter 1200.\n",
      "2021-08-15 13:49:34 [INFO]\t[TRAIN] epoch: 15, iter: 1220/2000, loss: 1.3297, lr: 0.004290, batch_cost: 7.1388, reader_cost: 0.00009, ips: 0.5603 samples/sec | ETA 01:32:48\n",
      "2021-08-15 13:51:56 [INFO]\t[TRAIN] epoch: 16, iter: 1240/2000, loss: 1.3793, lr: 0.004191, batch_cost: 7.0854, reader_cost: 0.00501, ips: 0.5645 samples/sec | ETA 01:29:44\n",
      "2021-08-15 13:54:18 [INFO]\t[TRAIN] epoch: 16, iter: 1260/2000, loss: 1.4476, lr: 0.004092, batch_cost: 7.1140, reader_cost: 0.00009, ips: 0.5623 samples/sec | ETA 01:27:44\n",
      "2021-08-15 13:56:41 [INFO]\t[TRAIN] epoch: 16, iter: 1280/2000, loss: 1.3931, lr: 0.003992, batch_cost: 7.1329, reader_cost: 0.00009, ips: 0.5608 samples/sec | ETA 01:25:35\n",
      "2021-08-15 13:59:03 [INFO]\t[TRAIN] epoch: 16, iter: 1300/2000, loss: 1.3491, lr: 0.003892, batch_cost: 7.0947, reader_cost: 0.00009, ips: 0.5638 samples/sec | ETA 01:22:46\n",
      "2021-08-15 14:01:25 [INFO]\t[TRAIN] epoch: 17, iter: 1320/2000, loss: 1.3143, lr: 0.003792, batch_cost: 7.0979, reader_cost: 0.00457, ips: 0.5636 samples/sec | ETA 01:20:26\n",
      "2021-08-15 14:03:46 [INFO]\t[TRAIN] epoch: 17, iter: 1340/2000, loss: 1.3243, lr: 0.003692, batch_cost: 7.0506, reader_cost: 0.00009, ips: 0.5673 samples/sec | ETA 01:17:33\n",
      "2021-08-15 14:06:10 [INFO]\t[TRAIN] epoch: 17, iter: 1360/2000, loss: 1.4109, lr: 0.003591, batch_cost: 7.2289, reader_cost: 0.00009, ips: 0.5533 samples/sec | ETA 01:17:06\n",
      "2021-08-15 14:08:32 [INFO]\t[TRAIN] epoch: 17, iter: 1380/2000, loss: 1.3454, lr: 0.003490, batch_cost: 7.0813, reader_cost: 0.00008, ips: 0.5649 samples/sec | ETA 01:13:10\n",
      "2021-08-15 14:10:53 [INFO]\t[TRAIN] epoch: 18, iter: 1400/2000, loss: 1.2418, lr: 0.003389, batch_cost: 7.0574, reader_cost: 0.00439, ips: 0.5668 samples/sec | ETA 01:10:34\n",
      "2021-08-15 14:10:53 [INFO]\tStart evaluating (total_samples: 328, total_iters: 328)...\n",
      "328/328 [==============================] - 187s 570ms/step - batch_cost: 0.5697 - reader cost: 1.4045e-0\n",
      "2021-08-15 14:14:00 [INFO]\t[EVAL] #Images: 328 mIoU: 0.8547 Acc: 0.9384 Kappa: 0.8406 \n",
      "2021-08-15 14:14:00 [INFO]\t[EVAL] Class IoU: \n",
      "[0.9199 0.7895]\n",
      "2021-08-15 14:14:00 [INFO]\t[EVAL] Class Acc: \n",
      "[0.9593 0.8798]\n",
      "2021-08-15 14:14:00 [INFO]\t[EVAL] The model with the best validation mIoU (0.8547) was saved at iter 1400.\n",
      "2021-08-15 14:16:20 [INFO]\t[TRAIN] epoch: 18, iter: 1420/2000, loss: 1.2073, lr: 0.003287, batch_cost: 6.9972, reader_cost: 0.00008, ips: 0.5717 samples/sec | ETA 01:07:38\n",
      "2021-08-15 14:18:42 [INFO]\t[TRAIN] epoch: 18, iter: 1440/2000, loss: 1.4130, lr: 0.003185, batch_cost: 7.0886, reader_cost: 0.00009, ips: 0.5643 samples/sec | ETA 01:06:09\n",
      "2021-08-15 14:21:04 [INFO]\t[TRAIN] epoch: 18, iter: 1460/2000, loss: 1.3631, lr: 0.003083, batch_cost: 7.0990, reader_cost: 0.00009, ips: 0.5635 samples/sec | ETA 01:03:53\n",
      "2021-08-15 14:23:26 [INFO]\t[TRAIN] epoch: 19, iter: 1480/2000, loss: 1.3192, lr: 0.002980, batch_cost: 7.1075, reader_cost: 0.00492, ips: 0.5628 samples/sec | ETA 01:01:35\n",
      "2021-08-15 14:25:47 [INFO]\t[TRAIN] epoch: 19, iter: 1500/2000, loss: 1.2721, lr: 0.002877, batch_cost: 7.0366, reader_cost: 0.00008, ips: 0.5685 samples/sec | ETA 00:58:38\n",
      "2021-08-15 14:28:06 [INFO]\t[TRAIN] epoch: 19, iter: 1520/2000, loss: 1.2146, lr: 0.002773, batch_cost: 6.9663, reader_cost: 0.00008, ips: 0.5742 samples/sec | ETA 00:55:43\n",
      "2021-08-15 14:30:27 [INFO]\t[TRAIN] epoch: 19, iter: 1540/2000, loss: 1.3416, lr: 0.002669, batch_cost: 7.0551, reader_cost: 0.00009, ips: 0.5670 samples/sec | ETA 00:54:05\n",
      "2021-08-15 14:32:49 [INFO]\t[TRAIN] epoch: 20, iter: 1560/2000, loss: 1.4001, lr: 0.002565, batch_cost: 7.0867, reader_cost: 0.00458, ips: 0.5644 samples/sec | ETA 00:51:58\n",
      "2021-08-15 14:35:10 [INFO]\t[TRAIN] epoch: 20, iter: 1580/2000, loss: 1.2903, lr: 0.002460, batch_cost: 7.0206, reader_cost: 0.00009, ips: 0.5697 samples/sec | ETA 00:49:08\n",
      "2021-08-15 14:37:32 [INFO]\t[TRAIN] epoch: 20, iter: 1600/2000, loss: 1.2940, lr: 0.002355, batch_cost: 7.1262, reader_cost: 0.00009, ips: 0.5613 samples/sec | ETA 00:47:30\n",
      "2021-08-15 14:37:32 [INFO]\tStart evaluating (total_samples: 328, total_iters: 328)...\n",
      "328/328 [==============================] - 192s 584ms/step - batch_cost: 0.5837 - reader cost: 1.4009e-\n",
      "2021-08-15 14:40:44 [INFO]\t[EVAL] #Images: 328 mIoU: 0.8590 Acc: 0.9410 Kappa: 0.8457 \n",
      "2021-08-15 14:40:44 [INFO]\t[EVAL] Class IoU: \n",
      "[0.9236 0.7944]\n",
      "2021-08-15 14:40:44 [INFO]\t[EVAL] Class Acc: \n",
      "[0.9557 0.8979]\n",
      "2021-08-15 14:40:44 [INFO]\t[EVAL] The model with the best validation mIoU (0.8590) was saved at iter 1600.\n",
      "2021-08-15 14:43:06 [INFO]\t[TRAIN] epoch: 20, iter: 1620/2000, loss: 1.4089, lr: 0.002249, batch_cost: 7.0976, reader_cost: 0.00009, ips: 0.5636 samples/sec | ETA 00:44:57\n",
      "2021-08-15 14:45:29 [INFO]\t[TRAIN] epoch: 20, iter: 1640/2000, loss: 1.3417, lr: 0.002142, batch_cost: 7.1396, reader_cost: 0.00009, ips: 0.5603 samples/sec | ETA 00:42:50\n",
      "2021-08-15 14:47:52 [INFO]\t[TRAIN] epoch: 21, iter: 1660/2000, loss: 1.2953, lr: 0.002035, batch_cost: 7.1382, reader_cost: 0.00480, ips: 0.5604 samples/sec | ETA 00:40:26\n",
      "2021-08-15 14:50:13 [INFO]\t[TRAIN] epoch: 21, iter: 1680/2000, loss: 1.2354, lr: 0.001927, batch_cost: 7.0755, reader_cost: 0.00009, ips: 0.5653 samples/sec | ETA 00:37:44\n",
      "2021-08-15 14:52:33 [INFO]\t[TRAIN] epoch: 21, iter: 1700/2000, loss: 1.3148, lr: 0.001819, batch_cost: 7.0161, reader_cost: 0.00008, ips: 0.5701 samples/sec | ETA 00:35:04\n",
      "2021-08-15 14:54:54 [INFO]\t[TRAIN] epoch: 21, iter: 1720/2000, loss: 1.2854, lr: 0.001710, batch_cost: 7.0307, reader_cost: 0.00009, ips: 0.5689 samples/sec | ETA 00:32:48\n",
      "2021-08-15 14:57:15 [INFO]\t[TRAIN] epoch: 22, iter: 1740/2000, loss: 1.3297, lr: 0.001600, batch_cost: 7.0440, reader_cost: 0.00506, ips: 0.5679 samples/sec | ETA 00:30:31\n",
      "2021-08-15 14:59:38 [INFO]\t[TRAIN] epoch: 22, iter: 1760/2000, loss: 1.2341, lr: 0.001489, batch_cost: 7.1578, reader_cost: 0.00009, ips: 0.5588 samples/sec | ETA 00:28:37\n",
      "2021-08-15 15:02:00 [INFO]\t[TRAIN] epoch: 22, iter: 1780/2000, loss: 1.2904, lr: 0.001377, batch_cost: 7.0855, reader_cost: 0.00009, ips: 0.5645 samples/sec | ETA 00:25:58\n",
      "2021-08-15 15:04:22 [INFO]\t[TRAIN] epoch: 22, iter: 1800/2000, loss: 1.3449, lr: 0.001265, batch_cost: 7.1172, reader_cost: 0.00009, ips: 0.5620 samples/sec | ETA 00:23:43\n",
      "2021-08-15 15:04:22 [INFO]\tStart evaluating (total_samples: 328, total_iters: 328)...\n",
      "328/328 [==============================] - 192s 586ms/step - batch_cost: 0.5853 - reader cost: 1.5279e-\n",
      "2021-08-15 15:07:34 [INFO]\t[EVAL] #Images: 328 mIoU: 0.8579 Acc: 0.9405 Kappa: 0.8444 \n",
      "2021-08-15 15:07:34 [INFO]\t[EVAL] Class IoU: \n",
      "[0.9229 0.793 ]\n",
      "2021-08-15 15:07:34 [INFO]\t[EVAL] Class Acc: \n",
      "[0.9559 0.8953]\n",
      "2021-08-15 15:07:34 [INFO]\t[EVAL] The model with the best validation mIoU (0.8590) was saved at iter 1600.\n",
      "2021-08-15 15:09:55 [INFO]\t[TRAIN] epoch: 23, iter: 1820/2000, loss: 1.2600, lr: 0.001151, batch_cost: 7.0528, reader_cost: 0.00437, ips: 0.5671 samples/sec | ETA 00:21:09\n",
      "2021-08-15 15:12:17 [INFO]\t[TRAIN] epoch: 23, iter: 1840/2000, loss: 1.2416, lr: 0.001036, batch_cost: 7.0654, reader_cost: 0.00008, ips: 0.5661 samples/sec | ETA 00:18:50\n",
      "2021-08-15 15:14:40 [INFO]\t[TRAIN] epoch: 23, iter: 1860/2000, loss: 1.3295, lr: 0.000919, batch_cost: 7.1507, reader_cost: 0.00009, ips: 0.5594 samples/sec | ETA 00:16:41\n",
      "2021-08-15 15:17:01 [INFO]\t[TRAIN] epoch: 23, iter: 1880/2000, loss: 1.2565, lr: 0.000801, batch_cost: 7.0472, reader_cost: 0.00009, ips: 0.5676 samples/sec | ETA 00:14:05\n",
      "2021-08-15 15:19:22 [INFO]\t[TRAIN] epoch: 24, iter: 1900/2000, loss: 1.2717, lr: 0.000681, batch_cost: 7.0612, reader_cost: 0.00454, ips: 0.5665 samples/sec | ETA 00:11:46\n",
      "2021-08-15 15:21:45 [INFO]\t[TRAIN] epoch: 24, iter: 1920/2000, loss: 1.2179, lr: 0.000558, batch_cost: 7.1594, reader_cost: 0.00009, ips: 0.5587 samples/sec | ETA 00:09:32\n",
      "2021-08-15 15:24:08 [INFO]\t[TRAIN] epoch: 24, iter: 1940/2000, loss: 1.2716, lr: 0.000432, batch_cost: 7.1507, reader_cost: 0.00009, ips: 0.5594 samples/sec | ETA 00:07:09\n",
      "2021-08-15 15:26:28 [INFO]\t[TRAIN] epoch: 24, iter: 1960/2000, loss: 1.3283, lr: 0.000302, batch_cost: 7.0055, reader_cost: 0.00009, ips: 0.5710 samples/sec | ETA 00:04:40\n",
      "2021-08-15 15:28:51 [INFO]\t[TRAIN] epoch: 25, iter: 1980/2000, loss: 1.2871, lr: 0.000166, batch_cost: 7.1265, reader_cost: 0.00465, ips: 0.5613 samples/sec | ETA 00:02:22\n",
      "2021-08-15 15:31:11 [INFO]\t[TRAIN] epoch: 25, iter: 2000/2000, loss: 1.2050, lr: 0.000011, batch_cost: 7.0136, reader_cost: 0.00009, ips: 0.5703 samples/sec | ETA 00:00:00\n",
      "2021-08-15 15:31:11 [INFO]\tStart evaluating (total_samples: 328, total_iters: 328)...\n",
      "328/328 [==============================] - 195s 593ms/step - batch_cost: 0.5928 - reader cost: 1.4790e-\n",
      "2021-08-15 15:34:26 [INFO]\t[EVAL] #Images: 328 mIoU: 0.8622 Acc: 0.9426 Kappa: 0.8495 \n",
      "2021-08-15 15:34:26 [INFO]\t[EVAL] Class IoU: \n",
      "[0.9257 0.7986]\n",
      "2021-08-15 15:34:26 [INFO]\t[EVAL] Class Acc: \n",
      "[0.9553 0.905 ]\n",
      "2021-08-15 15:34:26 [INFO]\t[EVAL] The model with the best validation mIoU (0.8622) was saved at iter 2000.\n",
      "<class 'paddle.nn.layer.conv.Conv2D'>'s flops has been counted\n",
      "<class 'paddle.nn.layer.norm.BatchNorm2D'>'s flops has been counted\n",
      "Cannot find suitable count function for <class 'paddle.nn.layer.pooling.MaxPool2D'>. Treat it as zero FLOPs.\n",
      "<class 'paddle.nn.layer.pooling.AdaptiveAvgPool2D'>'s flops has been counted\n",
      "<class 'paddle.nn.layer.pooling.AvgPool2D'>'s flops has been counted\n",
      "Cannot find suitable count function for <class 'paddle.nn.layer.activation.Sigmoid'>. Treat it as zero FLOPs.\n",
      "<class 'paddle.nn.layer.common.Dropout'>'s flops has been counted\n",
      "/opt/conda/envs/python35-paddle120-env/lib/python3.7/site-packages/paddle/fluid/dygraph/math_op_patch.py:238: UserWarning: The dtype of left and right variables are not the same, left dtype is VarType.FP32, but right dtype is VarType.INT32, the right dtype will convert to VarType.FP32\n",
      "  format(lhs_dtype, rhs_dtype, lhs_dtype))\n",
      "Total Flops: 8061050880     Total Params: 2328346\n"
     ]
    }
   ],
   "source": [
    "!python PaddleSeg/train.py\\\r\n",
    "--config PaddleSeg/configs/quick_start/bisenet_optic_disc_512x512_1k.yml\\\r\n",
    "--batch_size 4\\\r\n",
    "--iters 2000\\\r\n",
    "--learning_rate 0.01\\\r\n",
    "--save_interval 200\\\r\n",
    "--save_dir PaddleSeg/output\\\r\n",
    "--seed 2021\\\r\n",
    "--log_iters 20\\\r\n",
    "--do_eval\\\r\n",
    "--use_vdl\r\n",
    "\r\n",
    "# --batch_size 4\\  # 批大小\r\n",
    "# --iters 2000\\    # 迭代次数 -- 根据数据大小，批大小估计迭代次数\r\n",
    "# --learning_rate 0.01\\ # 学习率\r\n",
    "# --save_interval 200\\ # 保存周期 -- 迭代次数计算周期\r\n",
    "# --save_dir PaddleSeg/output\\ # 输出路径\r\n",
    "# --seed 2021\\ # 训练中使用到的随机数种子\r\n",
    "# --log_iters 20\\ # 日志频率 -- 迭代次数计算周期\r\n",
    "# --do_eval\\ # 边训练边验证\r\n",
    "# --use_vdl # 使用vdl可视化记录\r\n",
    "# 用于断训==即中断后继续上一次状态进行训练\r\n",
    "# --resume_model model_dir"
   ]
  },
  {
   "cell_type": "code",
   "execution_count": null,
   "metadata": {
    "collapsed": false
   },
   "outputs": [
    {
     "name": "stdout",
     "output_type": "stream",
     "text": [
      "/opt/conda/envs/python35-paddle120-env/lib/python3.7/site-packages/setuptools/depends.py:2: DeprecationWarning: the imp module is deprecated in favour of importlib; see the module's documentation for alternative uses\n",
      "  import imp\n",
      "2021-08-15 15:36:19 [INFO]\t\n",
      "---------------Config Information---------------\n",
      "batch_size: 4\n",
      "iters: 1000\n",
      "loss:\n",
      "  coef:\n",
      "  - 1\n",
      "  - 1\n",
      "  - 1\n",
      "  - 1\n",
      "  - 1\n",
      "  types:\n",
      "  - type: CrossEntropyLoss\n",
      "lr_scheduler:\n",
      "  end_lr: 0\n",
      "  learning_rate: 0.01\n",
      "  power: 0.9\n",
      "  type: PolynomialDecay\n",
      "model:\n",
      "  pretrained: null\n",
      "  type: BiSeNetV2\n",
      "optimizer:\n",
      "  momentum: 0.9\n",
      "  type: sgd\n",
      "  weight_decay: 4.0e-05\n",
      "train_dataset:\n",
      "  dataset_root: segDataset/horse\n",
      "  mode: train\n",
      "  num_classes: 2\n",
      "  train_path: segDataset/horse/train_list.txt\n",
      "  transforms:\n",
      "  - target_size:\n",
      "    - 512\n",
      "    - 512\n",
      "    type: Resize\n",
      "  - type: RandomHorizontalFlip\n",
      "  - type: Normalize\n",
      "  type: Dataset\n",
      "val_dataset:\n",
      "  dataset_root: segDataset/horse\n",
      "  mode: val\n",
      "  num_classes: 2\n",
      "  transforms:\n",
      "  - target_size:\n",
      "    - 512\n",
      "    - 512\n",
      "    type: Resize\n",
      "  - type: Normalize\n",
      "  type: Dataset\n",
      "  val_path: segDataset/horse/train_list.txt\n",
      "------------------------------------------------\n",
      "2021-08-15 15:36:19 [INFO]\tLoading pretrained model from PaddleSeg/output/best_model/model.pdparams\n",
      "2021-08-15 15:36:20 [INFO]\tThere are 356/356 variables loaded into BiSeNetV2.\n",
      "2021-08-15 15:36:20 [INFO]\tLoaded trained params of model successfully\n",
      "2021-08-15 15:36:20 [INFO]\tStart evaluating (total_samples: 328, total_iters: 328)...\n",
      "/opt/conda/envs/python35-paddle120-env/lib/python3.7/site-packages/paddle/fluid/dygraph/math_op_patch.py:238: UserWarning: The dtype of left and right variables are not the same, left dtype is VarType.INT32, but right dtype is VarType.BOOL, the right dtype will convert to VarType.INT32\n",
      "  format(lhs_dtype, rhs_dtype, lhs_dtype))\n",
      "/opt/conda/envs/python35-paddle120-env/lib/python3.7/site-packages/paddle/fluid/dygraph/math_op_patch.py:238: UserWarning: The dtype of left and right variables are not the same, left dtype is VarType.INT64, but right dtype is VarType.BOOL, the right dtype will convert to VarType.INT64\n",
      "  format(lhs_dtype, rhs_dtype, lhs_dtype))\n",
      "328/328 [==============================] - 190s 580ms/step - batch_cost: 0.5794 - reader cost: 1.9365e-\n",
      "2021-08-15 15:39:30 [INFO]\t[EVAL] #Images: 328 mIoU: 0.8622 Acc: 0.9426 Kappa: 0.8495 \n",
      "2021-08-15 15:39:30 [INFO]\t[EVAL] Class IoU: \n",
      "[0.9257 0.7986]\n",
      "2021-08-15 15:39:30 [INFO]\t[EVAL] Class Acc: \n",
      "[0.9553 0.905 ]\n"
     ]
    }
   ],
   "source": [
    "# 单独进行评估 -- 上边do_eval就是这个工作\r\n",
    "!python PaddleSeg/val.py\\\r\n",
    "--config PaddleSeg/configs/quick_start/bisenet_optic_disc_512x512_1k.yml\\\r\n",
    "--model_path PaddleSeg/output/best_model/model.pdparams\r\n",
    "# model_path： 模型参数路径"
   ]
  },
  {
   "cell_type": "markdown",
   "metadata": {
    "collapsed": false
   },
   "source": [
    "- 5.开始预测"
   ]
  },
  {
   "cell_type": "code",
   "execution_count": null,
   "metadata": {
    "collapsed": false
   },
   "outputs": [
    {
     "name": "stdout",
     "output_type": "stream",
     "text": [
      "/opt/conda/envs/python35-paddle120-env/lib/python3.7/site-packages/setuptools/depends.py:2: DeprecationWarning: the imp module is deprecated in favour of importlib; see the module's documentation for alternative uses\n",
      "  import imp\n",
      "2021-08-15 15:40:05 [INFO]\t\n",
      "---------------Config Information---------------\n",
      "batch_size: 4\n",
      "iters: 1000\n",
      "loss:\n",
      "  coef:\n",
      "  - 1\n",
      "  - 1\n",
      "  - 1\n",
      "  - 1\n",
      "  - 1\n",
      "  types:\n",
      "  - type: CrossEntropyLoss\n",
      "lr_scheduler:\n",
      "  end_lr: 0\n",
      "  learning_rate: 0.01\n",
      "  power: 0.9\n",
      "  type: PolynomialDecay\n",
      "model:\n",
      "  pretrained: null\n",
      "  type: BiSeNetV2\n",
      "optimizer:\n",
      "  momentum: 0.9\n",
      "  type: sgd\n",
      "  weight_decay: 4.0e-05\n",
      "train_dataset:\n",
      "  dataset_root: segDataset/horse\n",
      "  mode: train\n",
      "  num_classes: 2\n",
      "  train_path: segDataset/horse/train_list.txt\n",
      "  transforms:\n",
      "  - target_size:\n",
      "    - 512\n",
      "    - 512\n",
      "    type: Resize\n",
      "  - type: RandomHorizontalFlip\n",
      "  - type: Normalize\n",
      "  type: Dataset\n",
      "val_dataset:\n",
      "  dataset_root: segDataset/horse\n",
      "  mode: val\n",
      "  num_classes: 2\n",
      "  transforms:\n",
      "  - target_size:\n",
      "    - 512\n",
      "    - 512\n",
      "    type: Resize\n",
      "  - type: Normalize\n",
      "  type: Dataset\n",
      "  val_path: segDataset/horse/train_list.txt\n",
      "------------------------------------------------\n",
      "2021-08-15 15:40:05 [INFO]\tNumber of predict images = 328\n",
      "2021-08-15 15:40:05 [INFO]\tLoading pretrained model from PaddleSeg/output/best_model/model.pdparams\n",
      "2021-08-15 15:40:05 [INFO]\tThere are 356/356 variables loaded into BiSeNetV2.\n",
      "2021-08-15 15:40:05 [INFO]\tStart to predict...\n",
      "328/328 [==============================] - 196s 599ms/st\n"
     ]
    }
   ],
   "source": [
    "# 进行预测\r\n",
    "!python PaddleSeg/predict.py\\\r\n",
    "--config PaddleSeg/configs/quick_start/bisenet_optic_disc_512x512_1k.yml\\\r\n",
    "--model_path PaddleSeg/output/best_model/model.pdparams\\\r\n",
    "--image_path segDataset/horse/Images\\\r\n",
    "--save_dir PaddleSeg/output/horse\r\n",
    "# image_path: 预测图片路径/文件夹 -- 这里直接对训练数据进行预测，得到预测结果\r\n",
    "# save_dir： 保存预测结果的路径 -- 保存的预测结果为图片"
   ]
  },
  {
   "cell_type": "markdown",
   "metadata": {
    "collapsed": false
   },
   "source": [
    "# 五、可视化预测结果\n",
    "\n",
    "通过PaddleSeg预测输出的结果为图片，对应位于:PaddleSeg/output/horse\n",
    "\n",
    "其中包含两种结果：\n",
    "\n",
    "- 一种为掩膜图像，即叠加预测结果与原始结果的图像 -- 位于: **PaddleSeg/output/horse/added_prediction**\n",
    "- 另一种为预测结果的伪彩色图像，即预测的结果图像 -- 位于: **PaddleSeg/output/horse/pseudo_color_prediction**"
   ]
  },
  {
   "cell_type": "code",
   "execution_count": null,
   "metadata": {
    "collapsed": false
   },
   "outputs": [
    {
     "name": "stdout",
     "output_type": "stream",
     "text": [
      "PaddleSeg/output/horse\r\n",
      "├── added_prediction\r\n",
      "└── pseudo_color_prediction\r\n",
      "\r\n",
      "2 directories, 0 files\r\n"
     ]
    }
   ],
   "source": [
    "# 查看预测结果文件夹分布\r\n",
    "!tree PaddleSeg/output/horse -L 1"
   ]
  },
  {
   "cell_type": "markdown",
   "metadata": {
    "collapsed": false
   },
   "source": [
    "\n",
    "> 以下为展示结果\n",
    "\n",
    "<font color='red' size=5> ---数据集 horse 的预测结果展示--- </font>\n",
    "\n",
    "<font color='black' size=5> 掩膜图像： </font>\n",
    "\n",
    "![](https://ai-studio-static-online.cdn.bcebos.com/31ce006a3a3f45378701a8f3064612c87555d827de3748fd9a98a1bc1efe2b4a)\n",
    "\n",
    "<font color='black' size=5> 伪彩色图像： </font>\n",
    "\n",
    "![](https://ai-studio-static-online.cdn.bcebos.com/8d6710c888954d1b92725e3defc9ae71cb07df5d271d40e6bf8581d6f7025ad6)\n",
    "\n",
    "\n"
   ]
  }
 ],
 "metadata": {
  "kernelspec": {
   "display_name": "PaddlePaddle 2.0.0b0 (Python 3.5)",
   "language": "python",
   "name": "py35-paddle1.2.0"
  },
  "language_info": {
   "codemirror_mode": {
    "name": "ipython",
    "version": 3
   },
   "file_extension": ".py",
   "mimetype": "text/x-python",
   "name": "python",
   "nbconvert_exporter": "python",
   "pygments_lexer": "ipython3",
   "version": "3.7.4"
  }
 },
 "nbformat": 4,
 "nbformat_minor": 1
}
